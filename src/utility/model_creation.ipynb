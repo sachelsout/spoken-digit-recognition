{
 "cells": [
  {
   "attachments": {},
   "cell_type": "markdown",
   "metadata": {},
   "source": [
    "# <font color='green'>Creating Models for Spoken Digit Recognition</font>"
   ]
  },
  {
   "attachments": {},
   "cell_type": "markdown",
   "metadata": {},
   "source": [
    "This ipynb file has the detailed code for the input data, preprocessing of it, featurizing, training the models (LSTM), computing F1 scores and losses for the models, saving the models (which we will use in our main app for predictions on test data) recording the metrics results.<br><br>\n",
    "<b>NOTE :-</b> Here, we are going to create 4 deep learning models given below, based on tweaking the dataset and select the model which returns best metrics score.<br>\n",
    "<ol>\n",
    "<li>Raw Data</li>\n",
    "<li>Spectrogram Data</li>\n",
    "<li>Data augmentation with raw features</li>\n",
    "<li>Data augmentation with Spectrogram Data</li>\n",
    "</ol>"
   ]
  },
  {
   "attachments": {},
   "cell_type": "markdown",
   "metadata": {},
   "source": [
    "## <font color='green'>Imports, Dataset download and unzipping, reading sound files</font>"
   ]
  },
  {
   "cell_type": "code",
   "execution_count": 2,
   "metadata": {},
   "outputs": [],
   "source": [
    "# import necessary libraries\n",
    "\n",
    "import warnings\n",
    "warnings.filterwarnings('ignore')\n",
    "\n",
    "import numpy as np\n",
    "import pandas as pd\n",
    "import librosa\n",
    "from zipfile import ZipFile\n",
    "import os\n",
    "from pathlib import Path\n",
    "import sys\n",
    "import matplotlib.pyplot as pyplot\n",
    "import IPython\n",
    "\n",
    "from sklearn.utils import shuffle\n",
    "from sklearn.model_selection import train_test_split\n",
    "from sklearn.metrics import f1_score\n",
    "\n",
    "from tensorflow.keras.preprocessing.sequence import pad_sequences\n",
    "from tensorflow.keras.layers import Input, LSTM, Dense\n",
    "from tensorflow.keras.models import Model\n",
    "import tensorflow as tf\n",
    "\n",
    "from prettytable import PrettyTable"
   ]
  },
  {
   "cell_type": "code",
   "execution_count": 7,
   "metadata": {},
   "outputs": [
    {
     "name": "stderr",
     "output_type": "stream",
     "text": [
      "C:\\Users\\rohan\\AppData\\Local\\Programs\\Python\\Python310\\lib\\site-packages\\gdown\\cli.py:126: FutureWarning: Option `--id` was deprecated in version 4.3.1 and will be removed in 5.0. You don't need to pass it anymore to use a file ID.\n",
      "  warnings.warn(\n",
      "Downloading...\n",
      "From: https://drive.google.com/uc?id=17YGQheavMbM6aeHYjUcGssXfb7eQHo1z\n",
      "To: e:\\GITHUB REPOS\\spoken-digit-recognition\\src\\utility\\recordings.zip\n",
      "\n",
      "  0%|          | 0.00/9.28M [00:00<?, ?B/s]\n",
      " 17%|█▋        | 1.57M/9.28M [00:00<00:00, 10.6MB/s]\n",
      " 34%|███▍      | 3.15M/9.28M [00:00<00:00, 7.62MB/s]\n",
      " 45%|████▌     | 4.19M/9.28M [00:00<00:00, 6.98MB/s]\n",
      " 56%|█████▋    | 5.24M/9.28M [00:00<00:00, 5.77MB/s]\n",
      " 73%|███████▎  | 6.82M/9.28M [00:00<00:00, 6.85MB/s]\n",
      " 85%|████████▍ | 7.86M/9.28M [00:01<00:00, 6.71MB/s]\n",
      " 96%|█████████▌| 8.91M/9.28M [00:01<00:00, 6.44MB/s]\n",
      "100%|██████████| 9.28M/9.28M [00:01<00:00, 6.78MB/s]\n"
     ]
    }
   ],
   "source": [
    "# downloading the data from Google Drive\n",
    "# gets downloaded in the utility folder\n",
    "\n",
    "!gdown --id 17YGQheavMbM6aeHYjUcGssXfb7eQHo1z "
   ]
  },
  {
   "cell_type": "code",
   "execution_count": 17,
   "metadata": {},
   "outputs": [],
   "source": [
    "#unzipping\n",
    "# reference - https://www.geeksforgeeks.org/unzipping-files-in-python/\n",
    "\n",
    "with ZipFile(\"E:/GITHUB REPOS/spoken-digit-recognition/src/utility/recordings.zip\", 'r') as zObject:\n",
    "    zObject.extractall(\n",
    "        path=\"E:/GITHUB REPOS/spoken-digit-recognition/src/utility/dataset\")"
   ]
  },
  {
   "cell_type": "code",
   "execution_count": 3,
   "metadata": {},
   "outputs": [],
   "source": [
    "# reading the sound files\n",
    "\n",
    "recordings_ = Path('E:/GITHUB REPOS/spoken-digit-recognition/src/utility/dataset/recordings')\n",
    "all_files = os.listdir(recordings_)"
   ]
  },
  {
   "attachments": {},
   "cell_type": "markdown",
   "metadata": {},
   "source": [
    "## <font color='green'>Exploring the sound dataset</font>"
   ]
  },
  {
   "attachments": {},
   "cell_type": "markdown",
   "metadata": {},
   "source": [
    "Let's visualize and play some of the audio files from the dataset.<br><br>\n",
    "<b>Referrences</b> - <br>\n",
    "1. https://colab.research.google.com/github/Tyler-Hilbert/AudioProcessingInPythonWorkshop/blob/master/AudioProcessingInPython.ipynb<br>\n",
    "2. https://www.youtube.com/watch?v=37zCgCdV468"
   ]
  },
  {
   "cell_type": "code",
   "execution_count": 23,
   "metadata": {},
   "outputs": [
    {
     "name": "stderr",
     "output_type": "stream",
     "text": [
      "Cloning into 'ThinkDSP'...\n",
      "Updating files:  77% (238/306)\n",
      "Updating files:  78% (239/306)\n",
      "Updating files:  79% (242/306)\n",
      "Updating files:  80% (245/306)\n",
      "Updating files:  81% (248/306)\n",
      "Updating files:  82% (251/306)\n",
      "Updating files:  83% (254/306)\n",
      "Updating files:  84% (258/306)\n",
      "Updating files:  85% (261/306)\n",
      "Updating files:  86% (264/306)\n",
      "Updating files:  86% (265/306)\n",
      "Updating files:  87% (267/306)\n",
      "Updating files:  87% (269/306)\n",
      "Updating files:  88% (270/306)\n",
      "Updating files:  89% (273/306)\n",
      "Updating files:  90% (276/306)\n",
      "Updating files:  91% (279/306)\n",
      "Updating files:  92% (282/306)\n",
      "Updating files:  92% (284/306)\n",
      "Updating files:  93% (285/306)\n",
      "Updating files:  94% (288/306)\n",
      "Updating files:  95% (291/306)\n",
      "Updating files:  95% (292/306)\n",
      "Updating files:  96% (294/306)\n",
      "Updating files:  97% (297/306)\n",
      "Updating files:  98% (300/306)\n",
      "Updating files:  99% (303/306)\n",
      "Updating files:  99% (304/306)\n",
      "Updating files: 100% (306/306)\n",
      "Updating files: 100% (306/306), done.\n"
     ]
    }
   ],
   "source": [
    "# cloning the repo which we are going to use for audio files exploration\n",
    "\n",
    "!git clone https://github.com/AllenDowney/ThinkDSP.git "
   ]
  },
  {
   "attachments": {},
   "cell_type": "markdown",
   "metadata": {},
   "source": [
    "### Audio Sample 1"
   ]
  },
  {
   "cell_type": "code",
   "execution_count": 24,
   "metadata": {},
   "outputs": [
    {
     "data": {
      "image/png": "[encoded data removed]",
      "text/plain": [
       "<Figure size 640x480 with 1 Axes>"
      ]
     },
     "metadata": {},
     "output_type": "display_data"
    },
    {
     "name": "stdout",
     "output_type": "stream",
     "text": [
      "Writing sound.wav\n"
     ]
    },
    {
     "data": {
      "text/html": [
       "\n",
       "                <audio  controls=\"controls\" >\n",
       "                    <source src=\"data:audio/wav;base64,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\" type=\"audio/wav\" />\n",
       "                    Your browser does not support the audio element.\n",
       "                </audio>\n",
       "              "
      ],
      "text/plain": [
       "<IPython.lib.display.Audio object>"
      ]
     },
     "execution_count": 24,
     "metadata": {},
     "output_type": "execute_result"
    }
   ],
   "source": [
    "sys.path.insert(0, 'ThinkDSP/code/') \n",
    "import thinkdsp\n",
    "\n",
    "# Read in audio file\n",
    "wave = thinkdsp.read_wave('E:/GITHUB REPOS/spoken-digit-recognition/src/utility/dataset/recordings/0_jackson_0.wav')\n",
    "\n",
    "# Grab first 10 seconds of audio\n",
    "clipLength = 10 # in seconds\n",
    "index = 0\n",
    "while (index < wave.ts.size and wave.ts[index] < clipLength):\n",
    "\tindex += 1\n",
    "# Remove extras\n",
    "wave.ts = wave.ts[:index]\n",
    "wave.ys = wave.ys[:index]\n",
    "\n",
    "# Plot spectrum of audio file\n",
    "spectrum = wave.make_spectrum()\n",
    "spectrum.plot()\n",
    "pyplot.show()\n",
    "\n",
    "# Play audio file\n",
    "wave.play()\n",
    "IPython.display.Audio('sound.wav')"
   ]
  },
  {
   "attachments": {},
   "cell_type": "markdown",
   "metadata": {},
   "source": [
    "### Audio Sample 2"
   ]
  },
  {
   "cell_type": "code",
   "execution_count": 25,
   "metadata": {},
   "outputs": [
    {
     "data": {
      "image/png": "[encoded data removed]",
      "text/plain": [
       "<Figure size 640x480 with 1 Axes>"
      ]
     },
     "metadata": {},
     "output_type": "display_data"
    },
    {
     "name": "stdout",
     "output_type": "stream",
     "text": [
      "Writing sound.wav\n"
     ]
    },
    {
     "data": {
      "text/html": [
       "\n",
       "                <audio  controls=\"controls\" >\n",
       "                    <source src=\"data:audio/wav;base64,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\" type=\"audio/wav\" />\n",
       "                    Your browser does not support the audio element.\n",
       "                </audio>\n",
       "              "
      ],
      "text/plain": [
       "<IPython.lib.display.Audio object>"
      ]
     },
     "execution_count": 25,
     "metadata": {},
     "output_type": "execute_result"
    }
   ],
   "source": [
    "# Read in audio file\n",
    "wave = thinkdsp.read_wave('E:/GITHUB REPOS/spoken-digit-recognition/src/utility/dataset/recordings/1_nicolas_39.wav')\n",
    "\n",
    "# Grab first 10 seconds of audio\n",
    "clipLength = 10 # in seconds\n",
    "index = 0\n",
    "while (index < wave.ts.size and wave.ts[index] < clipLength):\n",
    "\tindex += 1\n",
    "# Remove extras\n",
    "wave.ts = wave.ts[:index]\n",
    "wave.ys = wave.ys[:index]\n",
    "\n",
    "# Plot spectrum of audio file\n",
    "spectrum = wave.make_spectrum()\n",
    "spectrum.plot()\n",
    "pyplot.show()\n",
    "\n",
    "# Play audio file\n",
    "wave.play()\n",
    "IPython.display.Audio('sound.wav')"
   ]
  },
  {
   "attachments": {},
   "cell_type": "markdown",
   "metadata": {},
   "source": [
    "### Audio Sample 3"
   ]
  },
  {
   "cell_type": "code",
   "execution_count": 26,
   "metadata": {},
   "outputs": [
    {
     "data": {
      "image/png": "[encoded data removed]",
      "text/plain": [
       "<Figure size 640x480 with 1 Axes>"
      ]
     },
     "metadata": {},
     "output_type": "display_data"
    },
    {
     "name": "stdout",
     "output_type": "stream",
     "text": [
      "Writing sound.wav\n"
     ]
    },
    {
     "data": {
      "text/html": [
       "\n",
       "                <audio  controls=\"controls\" >\n",
       "                    <source src=\"data:audio/wav;base64,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\" type=\"audio/wav\" />\n",
       "                    Your browser does not support the audio element.\n",
       "                </audio>\n",
       "              "
      ],
      "text/plain": [
       "<IPython.lib.display.Audio object>"
      ]
     },
     "execution_count": 26,
     "metadata": {},
     "output_type": "execute_result"
    }
   ],
   "source": [
    "# Read in audio file\n",
    "wave = thinkdsp.read_wave('E:/GITHUB REPOS/spoken-digit-recognition/src/utility/dataset/recordings/4_yweweler_7.wav')\n",
    "\n",
    "# Grab first 10 seconds of audio\n",
    "clipLength = 10 # in seconds\n",
    "index = 0\n",
    "while (index < wave.ts.size and wave.ts[index] < clipLength):\n",
    "\tindex += 1\n",
    "# Remove extras\n",
    "wave.ts = wave.ts[:index]\n",
    "wave.ys = wave.ys[:index]\n",
    "\n",
    "# Plot spectrum of audio file\n",
    "spectrum = wave.make_spectrum()\n",
    "spectrum.plot()\n",
    "pyplot.show()\n",
    "\n",
    "# Play audio file\n",
    "wave.play()\n",
    "IPython.display.Audio('sound.wav')"
   ]
  },
  {
   "attachments": {},
   "cell_type": "markdown",
   "metadata": {},
   "source": [
    "## <font color='green'>Creating a pandas Dataframe for the audio dataset, train-validation data split</font>"
   ]
  },
  {
   "cell_type": "code",
   "execution_count": 4,
   "metadata": {},
   "outputs": [
    {
     "name": "stdout",
     "output_type": "stream",
     "text": [
      "                                                path  label\n",
      "0  E:\\GITHUB REPOS\\spoken-digit-recognition\\src\\u...      0\n",
      "1  E:\\GITHUB REPOS\\spoken-digit-recognition\\src\\u...      0\n",
      "2  E:\\GITHUB REPOS\\spoken-digit-recognition\\src\\u...      0\n",
      "3  E:\\GITHUB REPOS\\spoken-digit-recognition\\src\\u...      0\n",
      "4  E:\\GITHUB REPOS\\spoken-digit-recognition\\src\\u...      0\n"
     ]
    }
   ],
   "source": [
    "#Create a dataframe(name=df_audio) with two columns(path, label).   \n",
    "#You can get the label from the first letter of name.  \n",
    "#Eg: 0_jackson_0 --> 0  \n",
    "#0_jackson_43 --> 0\n",
    "\n",
    "# empty lists to store audio paths and their labels\n",
    "path_list = []\n",
    "label_list = []\n",
    "\n",
    "for i in all_files:\n",
    "  # appending path and label of sound files in the lists\n",
    "  path_list.append(recordings_/i)\n",
    "  label_list.append(int(i[0]))\n",
    "\n",
    "# creating a pandas dataframe with path and label as columns and assigning lists values to the mentioned columns\n",
    "df_audio = pd.DataFrame({\n",
    "    'path'  : path_list,\n",
    "    'label' : label_list\n",
    "})\n",
    "\n",
    "# first 5 rows of the dataframe\n",
    "print(df_audio.head())"
   ]
  },
  {
   "cell_type": "code",
   "execution_count": 5,
   "metadata": {},
   "outputs": [],
   "source": [
    "# shuffling for randomness of the rows in a dataset\n",
    "\n",
    "df_audio = shuffle(df_audio, random_state=33) #don't change the random state"
   ]
  },
  {
   "cell_type": "code",
   "execution_count": 6,
   "metadata": {},
   "outputs": [
    {
     "name": "stdout",
     "output_type": "stream",
     "text": [
      "                                                   path  label\n",
      "766   E:\\GITHUB REPOS\\spoken-digit-recognition\\src\\u...      3\n",
      "182   E:\\GITHUB REPOS\\spoken-digit-recognition\\src\\u...      0\n",
      "1763  E:\\GITHUB REPOS\\spoken-digit-recognition\\src\\u...      8\n",
      "1814  E:\\GITHUB REPOS\\spoken-digit-recognition\\src\\u...      9\n",
      "596   E:\\GITHUB REPOS\\spoken-digit-recognition\\src\\u...      2\n"
     ]
    }
   ],
   "source": [
    "# to check the results of shuffling the dataframe\n",
    "\n",
    "print(df_audio.head())"
   ]
  },
  {
   "cell_type": "code",
   "execution_count": 6,
   "metadata": {},
   "outputs": [],
   "source": [
    "# split the data into train and validation and save in X_train, X_test, y_train, y_test\n",
    "# splitting the data into 70% train and 30% test\n",
    "\n",
    "X_train, X_test, y_train, y_test = train_test_split(df_audio['path'], df_audio['label'], test_size=0.3, stratify=df_audio['label'], random_state=45)"
   ]
  },
  {
   "attachments": {},
   "cell_type": "markdown",
   "metadata": {},
   "source": [
    "## <font color='green'>Preprocessing and analyzing the dataset </font>"
   ]
  },
  {
   "attachments": {},
   "cell_type": "markdown",
   "metadata": {},
   "source": [
    "### <font color='orange'>Converting audio files into arrays of raw data and computing the duration of audio files </font>"
   ]
  },
  {
   "cell_type": "code",
   "execution_count": 7,
   "metadata": {},
   "outputs": [],
   "source": [
    "# this function return the array values of audio with sampling rate of 22050 and Duration\n",
    "\n",
    "def load_wav(x, get_duration=True):  \n",
    "    #loading the wav file with sampling rate of 22050\n",
    "    samples, sample_rate = librosa.load(x, sr=22050)\n",
    "\n",
    "    if get_duration:\n",
    "        duration = librosa.get_duration(y=samples, sr=sample_rate)\n",
    "        return [samples, duration]\n",
    "    \n",
    "    else:\n",
    "        return samples"
   ]
  },
  {
   "cell_type": "code",
   "execution_count": 38,
   "metadata": {},
   "outputs": [],
   "source": [
    "# use load_wav function that was written above to get every wave from every audio file. \n",
    "# save it in X_train_processed and X_test_processed\n",
    "# X_train_processed/X_test_processed should be dataframes with two columns(raw_data, duration) with same index of X_train/y_train\n",
    "\n",
    "def preprocessing(data):\n",
    "  # empty lists to store raw data and duration \n",
    "  raw_data = []\n",
    "  duration = []\n",
    "\n",
    "  # looping through the data(train/test)\n",
    "  for i in data:\n",
    "    # calling the load_wav() which will return raw data and duration of files\n",
    "    load_wav_data = load_wav(i)\n",
    "    # appending raw data and duration in separate lists\n",
    "    raw_data.append(load_wav_data[0])\n",
    "    duration.append(load_wav_data[1])\n",
    "  \n",
    "  # returning newly created pandas dataframe which has raw_data and duration columns\n",
    "  return pd.DataFrame({\n",
    "      'raw_data': raw_data,\n",
    "      'duration': duration\n",
    "  })\n",
    "\n",
    "# calling the above defined function for train and test data\n",
    "X_train_processed = preprocessing(X_train)\n",
    "X_test_processed = preprocessing(X_test)"
   ]
  },
  {
   "cell_type": "code",
   "execution_count": 39,
   "metadata": {},
   "outputs": [
    {
     "name": "stdout",
     "output_type": "stream",
     "text": [
      "                                            raw_data  duration\n",
      "0  [0.00011455886, 0.0001350142, 0.00011951462, 0...  0.276780\n",
      "1  [0.015030296, 0.019285845, 0.017338067, 0.0149...  0.331519\n",
      "2  [0.0002622896, 0.00049065956, 0.00033653423, -...  0.292789\n",
      "3  [-0.008836386, -0.0106078815, -0.008852169, -0...  0.344127\n",
      "4  [-0.00942073, -0.012156246, -0.0115117505, -0....  0.659637\n"
     ]
    }
   ],
   "source": [
    "# printing raw data arrays of audio files along with their duration\n",
    "\n",
    "print(X_train_processed.head())"
   ]
  },
  {
   "attachments": {},
   "cell_type": "markdown",
   "metadata": {},
   "source": [
    "### <font color='orange'>Analyzing the duration of audio files using histograms and percentiles (later used for padding sequences) </font>"
   ]
  },
  {
   "attachments": {},
   "cell_type": "markdown",
   "metadata": {},
   "source": [
    "<b>Histograms</b>"
   ]
  },
  {
   "cell_type": "code",
   "execution_count": 40,
   "metadata": {},
   "outputs": [
    {
     "data": {
      "image/png": "[encoded data removed]",
      "text/plain": [
       "<Figure size 640x480 with 1 Axes>"
      ]
     },
     "metadata": {},
     "output_type": "display_data"
    }
   ],
   "source": [
    "#plot the histogram of the duration for train\n",
    "\n",
    "pyplot.hist(X_train_processed['duration'])\n",
    "pyplot.show()"
   ]
  },
  {
   "cell_type": "code",
   "execution_count": 42,
   "metadata": {},
   "outputs": [
    {
     "data": {
      "image/png": "[encoded data removed]",
      "text/plain": [
       "<Figure size 640x480 with 1 Axes>"
      ]
     },
     "metadata": {},
     "output_type": "display_data"
    }
   ],
   "source": [
    "#plot the histogram of the duration for test\n",
    "\n",
    "pyplot.hist(X_test_processed['duration'])\n",
    "pyplot.show()"
   ]
  },
  {
   "attachments": {},
   "cell_type": "markdown",
   "metadata": {},
   "source": [
    "<b>Percentiles</b>"
   ]
  },
  {
   "attachments": {},
   "cell_type": "markdown",
   "metadata": {},
   "source": [
    "0 to 100 percentile values with step size of 10"
   ]
  },
  {
   "cell_type": "code",
   "execution_count": 45,
   "metadata": {},
   "outputs": [
    {
     "name": "stdout",
     "output_type": "stream",
     "text": [
      "For Train Data - \n",
      "0 th percentile value is 0.16104308390022676\n",
      "10 th percentile value is 0.2585034013605442\n",
      "20 th percentile value is 0.29750566893424035\n",
      "30 th percentile value is 0.32988662131519275\n",
      "40 th percentile value is 0.3570068027210884\n",
      "50 th percentile value is 0.3896598639455782\n",
      "60 th percentile value is 0.41328798185941046\n",
      "70 th percentile value is 0.44439909297052155\n",
      "80 th percentile value is 0.48290249433106575\n",
      "90 th percentile value is 0.5532879818594104\n",
      "100 th percentile value is  2.195918367346939\n",
      "\n",
      "For Test Data - \n",
      "0 th percentile value is 0.1435374149659864\n",
      "10 th percentile value is 0.2645351473922902\n",
      "20 th percentile value is 0.30689342403628117\n",
      "30 th percentile value is 0.33941043083900224\n",
      "40 th percentile value is 0.36453514739229026\n",
      "50 th percentile value is 0.3947845804988662\n",
      "60 th percentile value is 0.42625850340136057\n",
      "70 th percentile value is 0.45528344671201815\n",
      "80 th percentile value is 0.48975056689342406\n",
      "90 th percentile value is 0.5629024943310658\n",
      "100 th percentile value is  2.282766439909297\n"
     ]
    }
   ],
   "source": [
    "######## TRAIN DATA ##################\n",
    "\n",
    "# print 0 to 100 percentile values with step size of 10 for train data duration. \n",
    "# looping from 0 to 100 with 10 step size\n",
    "\n",
    "print('For Train Data - ')\n",
    "for i in range(0,100,10):\n",
    "  # duration values\n",
    "  duration_ = X_train_processed['duration']\n",
    "  # duration values sorted\n",
    "  duration_sorted = np.sort(duration_, axis=None)\n",
    "\n",
    "  # printing the percentile values of duration(from 0 to 95)\n",
    "  print('{} th percentile value is {}'.format(i, duration_sorted[int(len(duration_sorted) * (float(i)/100))]))\n",
    "  \n",
    "# printing the 100th percentile value\n",
    "print('100 th percentile value is ', duration_sorted[-1])\n",
    "\n",
    "\n",
    "############# TEST DATA ##################\n",
    "\n",
    "# print 0 to 100 percentile values with step size of 10 for test data duration. \n",
    "# looping from 0 to 100 with 10 step size\n",
    "\n",
    "print('\\nFor Test Data - ')\n",
    "for i in range(0,100,10):\n",
    "  # duration values\n",
    "  duration_ = X_test_processed['duration']\n",
    "  # duration values sorted\n",
    "  duration_sorted = np.sort(duration_, axis=None)\n",
    "\n",
    "  # printing the percentile values of duration(from 0 to 95)\n",
    "  print('{} th percentile value is {}'.format(i, duration_sorted[int(len(duration_sorted) * (float(i)/100))]))\n",
    "  \n",
    "# printing the 100th percentile value\n",
    "print('100 th percentile value is ', duration_sorted[-1])\n"
   ]
  },
  {
   "attachments": {},
   "cell_type": "markdown",
   "metadata": {},
   "source": [
    "90 to 100 percentile values with step size of 1"
   ]
  },
  {
   "cell_type": "code",
   "execution_count": 46,
   "metadata": {},
   "outputs": [
    {
     "name": "stdout",
     "output_type": "stream",
     "text": [
      "For Train Data - \n",
      "90 th percentile value is 0.5532879818594104\n",
      "91 th percentile value is 0.567891156462585\n",
      "92 th percentile value is 0.5794104308390022\n",
      "93 th percentile value is 0.5996371882086168\n",
      "94 th percentile value is 0.6120181405895692\n",
      "95 th percentile value is 0.6331519274376417\n",
      "96 th percentile value is 0.6435374149659864\n",
      "97 th percentile value is 0.6647619047619048\n",
      "98 th percentile value is 0.7120181405895691\n",
      "99 th percentile value is 0.796281179138322\n",
      "100 th percentile value is  2.195918367346939\n",
      "\n",
      "For Test Data - \n",
      "90 th percentile value is 0.5629024943310658\n",
      "91 th percentile value is 0.5786394557823129\n",
      "92 th percentile value is 0.584625850340136\n",
      "93 th percentile value is 0.6010430839002268\n",
      "94 th percentile value is 0.6202721088435375\n",
      "95 th percentile value is 0.6230385487528345\n",
      "96 th percentile value is 0.636281179138322\n",
      "97 th percentile value is 0.6610430839002267\n",
      "98 th percentile value is 0.6834013605442177\n",
      "99 th percentile value is 0.8067573696145125\n",
      "100 th percentile value is  2.282766439909297\n"
     ]
    }
   ],
   "source": [
    "################## TRAIN DATA ####################\n",
    "\n",
    "# print 90 to 100 percentile values with step size of 1. \n",
    "# looping from 90 to 100 with 1 step size\n",
    "print('For Train Data - ')\n",
    "for i in range(90,100,1):\n",
    "  # duration values\n",
    "  duration_ = X_train_processed['duration']\n",
    "  # duration values sorted\n",
    "  duration_sorted = np.sort(duration_, axis=None)\n",
    "\n",
    "  # printing the percentile values of duration(from 0 to 95)\n",
    "  print('{} th percentile value is {}'.format(i, duration_sorted[int(len(duration_sorted) * (float(i)/100))]))\n",
    "  \n",
    "# printing the 100th percentile value\n",
    "print('100 th percentile value is ', duration_sorted[-1])\n",
    "\n",
    "\n",
    "################## TEST DATA #########################\n",
    "\n",
    "# print 90 to 100 percentile values with step size of 1. \n",
    "# looping from 90 to 100 with 1 step size\n",
    "print('\\nFor Test Data - ')\n",
    "for i in range(90,100,1):\n",
    "  # duration values\n",
    "  duration_ = X_test_processed['duration']\n",
    "  # duration values sorted\n",
    "  duration_sorted = np.sort(duration_, axis=None)\n",
    "\n",
    "  # printing the percentile values of duration(from 0 to 95)\n",
    "  print('{} th percentile value is {}'.format(i, duration_sorted[int(len(duration_sorted) * (float(i)/100))]))\n",
    "  \n",
    "# printing the 100th percentile value\n",
    "print('100 th percentile value is ', duration_sorted[-1])\n"
   ]
  },
  {
   "attachments": {},
   "cell_type": "markdown",
   "metadata": {},
   "source": [
    "### <font color='orange'>Padding and Masking the Data </font>"
   ]
  },
  {
   "attachments": {},
   "cell_type": "markdown",
   "metadata": {},
   "source": [
    "<b>Based on our above analysis, 99 percentile values are less than 0.8sec. So we will limit maximum length of X_train_processed and X_test_processed to 0.8 sec.</b>\n",
    "\n",
    "<b>While loading the audio files, we are using sampling rate of 22050 so one sec will give array of length 22050. so, our maximum length is 0.8*22050 = 17640\n",
    "</b>\n",
    "<b>Pad with Zero if length of sequence is less than 17640 else Truncate the number. </b>\n",
    "\n",
    "<b> Also create a masking vector for train and test. </b>\n",
    "\n",
    "<b> masking vector value = 1 if it is real value, 0 if it is pad value. Masking vector data type must be bool.</b>\n"
   ]
  },
  {
   "cell_type": "code",
   "execution_count": 47,
   "metadata": {},
   "outputs": [],
   "source": [
    "max_length  = 17640\n",
    "\n",
    "# padding train and test raw data with maximum length 17640\n",
    "X_train_pad_seq = pad_sequences(X_train_processed['raw_data'], maxlen=max_length, padding='post', truncating='post', dtype='float64')\n",
    "X_test_pad_seq = pad_sequences(X_test_processed['raw_data'], maxlen=max_length, padding='post', truncating='post', dtype='float64')\n",
    "\n",
    "########## MASKING TRAIN DATA #################\n",
    "\n",
    "# empty list to store masked train data\n",
    "X_train_mask = []\n",
    "\n",
    "for i in X_train_pad_seq:\n",
    "  # array with True/False values(if value>0,True else False)\n",
    "  mask_train = np.array([(j>0) for j in i])\n",
    "  # appending the masked train data in the list\n",
    "  X_train_mask.append(mask_train)\n",
    "\n",
    "\n",
    "################ MASKING TEST DATA #################\n",
    "\n",
    "# empty list to store masked test data\n",
    "X_test_mask = []\n",
    "\n",
    "for i in X_test_pad_seq:\n",
    "  # array with True/False values(if value>0,True else False)\n",
    "  mask_test = np.array([(j>0) for j in i])\n",
    "  # appending the masked test data in the list\n",
    "  X_test_mask.append(mask_test)\n",
    "\n",
    "# converting lists into numpy arrays\n",
    "X_train_mask = np.asarray(X_train_mask)\n",
    "X_test_mask = np.asarray(X_test_mask)"
   ]
  },
  {
   "cell_type": "code",
   "execution_count": 56,
   "metadata": {},
   "outputs": [
    {
     "name": "stdout",
     "output_type": "stream",
     "text": [
      "Padded samples\n",
      "[[0.00011456 0.00013501 0.00011951 ... 0.         0.         0.        ]\n",
      " [0.0150303  0.01928584 0.01733807 ... 0.         0.         0.        ]] \n",
      " [[ 3.24645662e-04  2.05025426e-05 -2.57806911e-04 ...  0.00000000e+00\n",
      "   0.00000000e+00  0.00000000e+00]\n",
      " [ 3.25205037e-04 -5.34165156e-05 -6.02939865e-04 ...  0.00000000e+00\n",
      "   0.00000000e+00  0.00000000e+00]]\n",
      "\n",
      "Masked samples\n",
      "[[ True  True  True ... False False False]\n",
      " [ True  True  True ... False False False]] \n",
      " [[ True  True False ... False False False]\n",
      " [ True False False ... False False False]]\n"
     ]
    }
   ],
   "source": [
    "# sample output of above padding and masking\n",
    "\n",
    "print('Padded samples')\n",
    "print(X_train_pad_seq[:2], '\\n',X_test_pad_seq[:2])\n",
    "print('\\nMasked samples')\n",
    "print(X_train_mask[:2], '\\n', X_test_mask[:2])"
   ]
  },
  {
   "attachments": {},
   "cell_type": "markdown",
   "metadata": {},
   "source": [
    "# <font color='green'>Let's create 4 models by tweaking the dataset !!</font>"
   ]
  },
  {
   "attachments": {},
   "cell_type": "markdown",
   "metadata": {},
   "source": [
    "## <font color='green'>1. Raw Data (Giving Raw Data directly to the created model)</font>"
   ]
  },
  {
   "attachments": {},
   "cell_type": "markdown",
   "metadata": {},
   "source": [
    "### <font color='orange'>Define F1 score metric</font>"
   ]
  },
  {
   "cell_type": "code",
   "execution_count": 8,
   "metadata": {},
   "outputs": [],
   "source": [
    "# References - \n",
    "# https://scikit-learn.org/stable/modules/generated/sklearn.metrics.f1_score.html\n",
    "# https://www.tensorflow.org/api_docs/python/tf/py_function\n",
    "\n",
    "def f1_score_micro(y_true, y_pred):\n",
    "  return f1_score(y_true, y_pred, average='micro') # micro\n",
    "\n",
    "def f1(y_true, y_prob):\n",
    "  y_pred = tf.math.argmax(y_prob, axis=1)\n",
    "  return tf.py_function(f1_score_micro, (y_true,y_pred), tf.double)"
   ]
  },
  {
   "attachments": {},
   "cell_type": "markdown",
   "metadata": {},
   "source": [
    "### <font color='orange'>Model Architecture</font>"
   ]
  },
  {
   "cell_type": "code",
   "execution_count": 60,
   "metadata": {},
   "outputs": [
    {
     "name": "stdout",
     "output_type": "stream",
     "text": [
      "Model: \"model\"\n",
      "__________________________________________________________________________________________________\n",
      " Layer (type)                   Output Shape         Param #     Connected to                     \n",
      "==================================================================================================\n",
      " input_1 (InputLayer)           [(None, 17640, 1)]   0           []                               \n",
      "                                                                                                  \n",
      " input_2 (InputLayer)           [(None, 17640)]      0           []                               \n",
      "                                                                                                  \n",
      " lstm (LSTM)                    (None, 25)           2700        ['input_1[0][0]',                \n",
      "                                                                  'input_2[0][0]']                \n",
      "                                                                                                  \n",
      " dense (Dense)                  (None, 64)           1664        ['lstm[0][0]']                   \n",
      "                                                                                                  \n",
      " dense_1 (Dense)                (None, 10)           650         ['dense[0][0]']                  \n",
      "                                                                                                  \n",
      "==================================================================================================\n",
      "Total params: 5,014\n",
      "Trainable params: 5,014\n",
      "Non-trainable params: 0\n",
      "__________________________________________________________________________________________________\n",
      "None\n"
     ]
    }
   ],
   "source": [
    "# helps avoid clutter from old models and layers, especially when memory is limited.\n",
    "# Reference - https://www.tensorflow.org/api_docs/python/tf/keras/backend/clear_session\n",
    "tf.keras.backend.clear_session()\n",
    "\n",
    "# ------------------------------- MODEL 1 ARCHITECTURE ---------------------------------\n",
    "\n",
    "# 2 input layers\n",
    "data_input_layer = Input(shape=(max_length, 1), dtype='float64')\n",
    "mask_input_layer = Input(shape=(max_length), dtype='bool')\n",
    "\n",
    "# lstm layer\n",
    "lstm_output = LSTM(25)(inputs=data_input_layer, mask=mask_input_layer)\n",
    "\n",
    "# dense layer\n",
    "dense_layer = Dense(64)(lstm_output)\n",
    "\n",
    "# output layer\n",
    "output_layer = Dense(10, activation='softmax')(dense_layer)\n",
    "\n",
    "# creating the model\n",
    "model1 = Model([data_input_layer, mask_input_layer], output_layer)\n",
    "\n",
    "# compiling the model\n",
    "model1.compile(optimizer=tf.keras.optimizers.Adam(), loss='sparse_categorical_crossentropy', metrics=[f1])\n",
    "\n",
    "# model summary\n",
    "print(model1.summary())"
   ]
  },
  {
   "attachments": {},
   "cell_type": "markdown",
   "metadata": {},
   "source": [
    "### <font color='orange'>Model Training and saving the trained model</font>"
   ]
  },
  {
   "cell_type": "code",
   "execution_count": 61,
   "metadata": {},
   "outputs": [
    {
     "name": "stdout",
     "output_type": "stream",
     "text": [
      "Epoch 1/5\n",
      "44/44 [==============================] - 408s 9s/step - loss: 2.3047 - f1: 0.0881 - val_loss: 2.3026 - val_f1: 0.0921\n",
      "Epoch 2/5\n",
      "44/44 [==============================] - 410s 9s/step - loss: 2.3035 - f1: 0.0923 - val_loss: 2.3026 - val_f1: 0.0998\n",
      "Epoch 3/5\n",
      "44/44 [==============================] - 389s 9s/step - loss: 2.3040 - f1: 0.0883 - val_loss: 2.3026 - val_f1: 0.1014\n",
      "Epoch 4/5\n",
      "44/44 [==============================] - 386s 9s/step - loss: 2.3034 - f1: 0.0933 - val_loss: 2.3026 - val_f1: 0.1036\n",
      "Epoch 5/5\n",
      "44/44 [==============================] - 384s 9s/step - loss: 2.3035 - f1: 0.0866 - val_loss: 2.3026 - val_f1: 0.0998\n"
     ]
    },
    {
     "name": "stderr",
     "output_type": "stream",
     "text": [
      "WARNING:absl:Found untraced functions such as _update_step_xla, lstm_cell_layer_call_fn, lstm_cell_layer_call_and_return_conditional_losses while saving (showing 3 of 3). These functions will not be directly callable after loading.\n"
     ]
    },
    {
     "name": "stdout",
     "output_type": "stream",
     "text": [
      "INFO:tensorflow:Assets written to: E:/GITHUB REPOS/spoken-digit-recognition/src/models/model1\\assets\n"
     ]
    },
    {
     "name": "stderr",
     "output_type": "stream",
     "text": [
      "INFO:tensorflow:Assets written to: E:/GITHUB REPOS/spoken-digit-recognition/src/models/model1\\assets\n"
     ]
    }
   ],
   "source": [
    "#train your model\n",
    "model1.fit([X_train_pad_seq,X_train_mask],y_train, validation_data=([X_test_pad_seq,X_test_mask], y_test), epochs=5)\n",
    "\n",
    "# save the trained model\n",
    "model1.save('E:/GITHUB REPOS/spoken-digit-recognition/src/models/model1')"
   ]
  },
  {
   "attachments": {},
   "cell_type": "markdown",
   "metadata": {},
   "source": [
    "## <font color='green'>2. Spectrogram Data (Giving converted Spectrogram Data to the created model)</font>"
   ]
  },
  {
   "attachments": {},
   "cell_type": "markdown",
   "metadata": {},
   "source": [
    "### <font color='orange'>Convert raw data into Spectrogram Data</font>"
   ]
  },
  {
   "attachments": {},
   "cell_type": "markdown",
   "metadata": {},
   "source": [
    "<b>We can use librosa to convert raw data into spectrogram. A spectrogram shows the features in a two-dimensional representation with the intensity of a frequency at a point in time i.e we are converting Time domain to frequency domain.<br>\n",
    "Reference - https://pnsn.org/spectrograms/what-is-a-spectrogram</b>"
   ]
  },
  {
   "cell_type": "code",
   "execution_count": 18,
   "metadata": {},
   "outputs": [],
   "source": [
    "# function defined to convert raw data into spectrogram data\n",
    "\n",
    "def convert_to_spectrogram(raw_data):\n",
    "    spectrum = librosa.feature.melspectrogram(y=raw_data, sr=22050, n_mels=64)\n",
    "    logmel_spectrum = librosa.power_to_db(S=spectrum, ref=np.max)\n",
    "    return logmel_spectrum"
   ]
  },
  {
   "cell_type": "code",
   "execution_count": 63,
   "metadata": {},
   "outputs": [],
   "source": [
    "# use above defined convert_to_spectrogram() function and convert every raw sequence in X_train_pad_seq and X_test_pad_seq.\n",
    "# save those all in the X_train_spectrogram and X_test_spectrogram ( These two arrays must be numpy arrays)\n",
    "\n",
    "# empty lists to store spectograms of train and test data\n",
    "X_train_spectrogram_lst = []\n",
    "X_test_spectrogram_lst = []\n",
    "\n",
    "for i in X_train_pad_seq:\n",
    "  # appending spectograms of train data\n",
    "  X_train_spectrogram_lst.append(convert_to_spectrogram(i))\n",
    "\n",
    "for i in X_test_pad_seq:\n",
    "  # appending spectograms of test data\n",
    "  X_test_spectrogram_lst.append(convert_to_spectrogram(i))\n",
    "\n",
    "# converting lists into numpy arrays\n",
    "X_train_spectrogram = np.asarray(X_train_spectrogram_lst)\n",
    "X_test_spectrogram = np.asarray(X_test_spectrogram_lst)"
   ]
  },
  {
   "cell_type": "code",
   "execution_count": 65,
   "metadata": {},
   "outputs": [
    {
     "name": "stdout",
     "output_type": "stream",
     "text": [
      "[[[-69.81262545 -56.06541159 -39.10930323 ... -80.         -80.\n",
      "   -80.        ]\n",
      "  [-74.29158507 -48.51075588 -22.9132333  ... -80.         -80.\n",
      "   -80.        ]\n",
      "  [-70.42082062 -43.76703382 -19.73730702 ... -80.         -80.\n",
      "   -80.        ]\n",
      "  ...\n",
      "  [-80.         -80.         -80.         ... -80.         -80.\n",
      "   -80.        ]\n",
      "  [-80.         -80.         -80.         ... -80.         -80.\n",
      "   -80.        ]\n",
      "  [-80.         -80.         -80.         ... -80.         -80.\n",
      "   -80.        ]]\n",
      "\n",
      " [[-24.86577426 -25.33101511 -26.7984085  ... -80.         -80.\n",
      "   -80.        ]\n",
      "  [-19.40124633 -15.22842819 -14.02581819 ... -80.         -80.\n",
      "   -80.        ]\n",
      "  [-19.25470654 -17.27706934 -18.25932371 ... -80.         -80.\n",
      "   -80.        ]\n",
      "  ...\n",
      "  [-69.67486227 -75.71984563 -80.         ... -80.         -80.\n",
      "   -80.        ]\n",
      "  [-70.12693205 -76.17340788 -80.         ... -80.         -80.\n",
      "   -80.        ]\n",
      "  [-70.4065534  -76.45359497 -80.         ... -80.         -80.\n",
      "   -80.        ]]]\n"
     ]
    }
   ],
   "source": [
    "print(X_train_spectrogram[:2])"
   ]
  },
  {
   "attachments": {},
   "cell_type": "markdown",
   "metadata": {},
   "source": [
    "### <font color='orange'>Model Architecture</font>"
   ]
  },
  {
   "cell_type": "code",
   "execution_count": 66,
   "metadata": {},
   "outputs": [
    {
     "name": "stdout",
     "output_type": "stream",
     "text": [
      "Model: \"model\"\n",
      "_________________________________________________________________\n",
      " Layer (type)                Output Shape              Param #   \n",
      "=================================================================\n",
      " input_1 (InputLayer)        [(None, 64, 35)]          0         \n",
      "                                                                 \n",
      " lstm (LSTM)                 (None, 64, 25)            6100      \n",
      "                                                                 \n",
      " tf.math.reduce_mean (TFOpLa  (None, 64)               0         \n",
      " mbda)                                                           \n",
      "                                                                 \n",
      " dense (Dense)               (None, 64)                4160      \n",
      "                                                                 \n",
      " dense_1 (Dense)             (None, 10)                650       \n",
      "                                                                 \n",
      "=================================================================\n",
      "Total params: 10,910\n",
      "Trainable params: 10,910\n",
      "Non-trainable params: 0\n",
      "_________________________________________________________________\n",
      "None\n"
     ]
    }
   ],
   "source": [
    "tf.keras.backend.clear_session()\n",
    "\n",
    "# ----------------------------------- MODEL 2 ARCHITECTURE ---------------------------------\n",
    "\n",
    "# input layer\n",
    "input_layer = Input(shape=(64,35,))\n",
    "\n",
    "# lstm layer\n",
    "lstm_layer = LSTM(25, return_sequences=True)(input_layer)\n",
    "\n",
    "# https://www.tensorflow.org/api_docs/python/tf/math/reduce_mean\n",
    "# averaging the output of lstm layer\n",
    "lstm_op_avg = tf.math.reduce_mean(lstm_layer, axis=-1)\n",
    "\n",
    "# dense layer\n",
    "dense_layer = Dense(64)(lstm_op_avg)\n",
    "\n",
    "# output layer\n",
    "output_layer = Dense(10, activation='softmax')(dense_layer)\n",
    "\n",
    "# creating the model\n",
    "model2 = Model(inputs=input_layer, outputs=output_layer)\n",
    "\n",
    "# compiling the model\n",
    "model2.compile(optimizer=tf.keras.optimizers.Adam(), loss='sparse_categorical_crossentropy', metrics=[f1])\n",
    "\n",
    "# model summary\n",
    "print(model2.summary())"
   ]
  },
  {
   "attachments": {},
   "cell_type": "markdown",
   "metadata": {},
   "source": [
    "### <font color='orange'>Model Training and saving the trained model</font>"
   ]
  },
  {
   "cell_type": "code",
   "execution_count": 67,
   "metadata": {},
   "outputs": [
    {
     "name": "stdout",
     "output_type": "stream",
     "text": [
      "Epoch 1/30\n",
      "44/44 [==============================] - 4s 34ms/step - loss: 2.2734 - f1: 0.1449 - val_loss: 2.2010 - val_f1: 0.1601\n",
      "Epoch 2/30\n",
      "44/44 [==============================] - 1s 24ms/step - loss: 2.1147 - f1: 0.2751 - val_loss: 2.0135 - val_f1: 0.3284\n",
      "Epoch 3/30\n",
      "44/44 [==============================] - 1s 24ms/step - loss: 1.9001 - f1: 0.3823 - val_loss: 1.8235 - val_f1: 0.3914\n",
      "Epoch 4/30\n",
      "44/44 [==============================] - 1s 24ms/step - loss: 1.6733 - f1: 0.4271 - val_loss: 1.5943 - val_f1: 0.4715\n",
      "Epoch 5/30\n",
      "44/44 [==============================] - 1s 24ms/step - loss: 1.4605 - f1: 0.5002 - val_loss: 1.4131 - val_f1: 0.5488\n",
      "Epoch 6/30\n",
      "44/44 [==============================] - 1s 24ms/step - loss: 1.3352 - f1: 0.5253 - val_loss: 1.3483 - val_f1: 0.5208\n",
      "Epoch 7/30\n",
      "44/44 [==============================] - 1s 24ms/step - loss: 1.2487 - f1: 0.5682 - val_loss: 1.2328 - val_f1: 0.5877\n",
      "Epoch 8/30\n",
      "44/44 [==============================] - 1s 23ms/step - loss: 1.1617 - f1: 0.6106 - val_loss: 1.1575 - val_f1: 0.6206\n",
      "Epoch 9/30\n",
      "44/44 [==============================] - 1s 24ms/step - loss: 1.0893 - f1: 0.6425 - val_loss: 1.0936 - val_f1: 0.6343\n",
      "Epoch 10/30\n",
      "44/44 [==============================] - 1s 24ms/step - loss: 1.0183 - f1: 0.6610 - val_loss: 1.0567 - val_f1: 0.6579\n",
      "Epoch 11/30\n",
      "44/44 [==============================] - 1s 24ms/step - loss: 0.9934 - f1: 0.6676 - val_loss: 1.0064 - val_f1: 0.6760\n",
      "Epoch 12/30\n",
      "44/44 [==============================] - 1s 24ms/step - loss: 0.9372 - f1: 0.6828 - val_loss: 0.9813 - val_f1: 0.6935\n",
      "Epoch 13/30\n",
      "44/44 [==============================] - 1s 25ms/step - loss: 0.8980 - f1: 0.7024 - val_loss: 0.8813 - val_f1: 0.6985\n",
      "Epoch 14/30\n",
      "44/44 [==============================] - 1s 24ms/step - loss: 0.8152 - f1: 0.7311 - val_loss: 0.8113 - val_f1: 0.7237\n",
      "Epoch 15/30\n",
      "44/44 [==============================] - 1s 23ms/step - loss: 0.7745 - f1: 0.7332 - val_loss: 0.7951 - val_f1: 0.7560\n",
      "Epoch 16/30\n",
      "44/44 [==============================] - 1s 23ms/step - loss: 0.7515 - f1: 0.7443 - val_loss: 0.7710 - val_f1: 0.7763\n",
      "Epoch 17/30\n",
      "44/44 [==============================] - 1s 23ms/step - loss: 0.7220 - f1: 0.7595 - val_loss: 0.7271 - val_f1: 0.7593\n",
      "Epoch 18/30\n",
      "44/44 [==============================] - 1s 27ms/step - loss: 0.6913 - f1: 0.7749 - val_loss: 0.6866 - val_f1: 0.7845\n",
      "Epoch 19/30\n",
      "44/44 [==============================] - 1s 28ms/step - loss: 0.6542 - f1: 0.7843 - val_loss: 0.6582 - val_f1: 0.7939\n",
      "Epoch 20/30\n",
      "44/44 [==============================] - 1s 28ms/step - loss: 0.6228 - f1: 0.7884 - val_loss: 0.6980 - val_f1: 0.7593\n",
      "Epoch 21/30\n",
      "44/44 [==============================] - 1s 28ms/step - loss: 0.5964 - f1: 0.8014 - val_loss: 0.6353 - val_f1: 0.7933\n",
      "Epoch 22/30\n",
      "44/44 [==============================] - 1s 28ms/step - loss: 0.5794 - f1: 0.8125 - val_loss: 0.6143 - val_f1: 0.7988\n",
      "Epoch 23/30\n",
      "44/44 [==============================] - 1s 30ms/step - loss: 0.5629 - f1: 0.8054 - val_loss: 0.5902 - val_f1: 0.8087\n",
      "Epoch 24/30\n",
      "44/44 [==============================] - 1s 28ms/step - loss: 0.5475 - f1: 0.8087 - val_loss: 0.5703 - val_f1: 0.8114\n",
      "Epoch 25/30\n",
      "44/44 [==============================] - 1s 28ms/step - loss: 0.5426 - f1: 0.8253 - val_loss: 0.5799 - val_f1: 0.8185\n",
      "Epoch 26/30\n",
      "44/44 [==============================] - 1s 28ms/step - loss: 0.5258 - f1: 0.8232 - val_loss: 0.5445 - val_f1: 0.8333\n",
      "Epoch 27/30\n",
      "44/44 [==============================] - 1s 28ms/step - loss: 0.4967 - f1: 0.8397 - val_loss: 0.5291 - val_f1: 0.8257\n",
      "Epoch 28/30\n",
      "44/44 [==============================] - 1s 29ms/step - loss: 0.4756 - f1: 0.8468 - val_loss: 0.5225 - val_f1: 0.8405\n",
      "Epoch 29/30\n",
      "44/44 [==============================] - 1s 28ms/step - loss: 0.4947 - f1: 0.8172 - val_loss: 0.5000 - val_f1: 0.8531\n",
      "Epoch 30/30\n",
      "44/44 [==============================] - 1s 28ms/step - loss: 0.4554 - f1: 0.8587 - val_loss: 0.5069 - val_f1: 0.8344\n"
     ]
    },
    {
     "name": "stderr",
     "output_type": "stream",
     "text": [
      "WARNING:absl:Found untraced functions such as _update_step_xla, lstm_cell_layer_call_fn, lstm_cell_layer_call_and_return_conditional_losses while saving (showing 3 of 3). These functions will not be directly callable after loading.\n"
     ]
    },
    {
     "name": "stdout",
     "output_type": "stream",
     "text": [
      "INFO:tensorflow:Assets written to: E:/GITHUB REPOS/spoken-digit-recognition/src/models/model2\\assets\n"
     ]
    },
    {
     "name": "stderr",
     "output_type": "stream",
     "text": [
      "INFO:tensorflow:Assets written to: E:/GITHUB REPOS/spoken-digit-recognition/src/models/model2\\assets\n"
     ]
    }
   ],
   "source": [
    "# train your model\n",
    "model2.fit(X_train_spectrogram,y_train, validation_data=(X_test_spectrogram, y_test), epochs=30)\n",
    "\n",
    "# save the trained model\n",
    "model2.save('E:/GITHUB REPOS/spoken-digit-recognition/src/models/model2')"
   ]
  },
  {
   "attachments": {},
   "cell_type": "markdown",
   "metadata": {},
   "source": [
    "## <font color='green'>3. Data Augmentation with raw features (increasing the dataset size)</font>"
   ]
  },
  {
   "attachments": {},
   "cell_type": "markdown",
   "metadata": {},
   "source": [
    "We can augment the audio data using these methods:\n",
    "1. <b>Time Stretching</b> - Time stretching either increases or decreases the length of the file. For time stretching we move the file 30% faster or slower\n",
    "2. <b>Pitch Shifting</b> - pitch shifting moves the frequencies higher or lower. For pitch shifting we shift up or down one half-step."
   ]
  },
  {
   "attachments": {},
   "cell_type": "markdown",
   "metadata": {},
   "source": [
    "### <font color='orange'>Augmenting single datapoint</font>"
   ]
  },
  {
   "cell_type": "code",
   "execution_count": 10,
   "metadata": {},
   "outputs": [],
   "source": [
    "# function for generating augmented data\n",
    "\n",
    "def generate_augmented_data(file_path):\n",
    "    augmented_data = []\n",
    "    samples = load_wav(file_path,get_duration=False)\n",
    "    for time_value in [0.7, 1, 1.3]:\n",
    "        for pitch_value in [-1, 0, 1]:\n",
    "            time_stretch_data = librosa.effects.time_stretch(samples, rate=time_value)\n",
    "            final_data = librosa.effects.pitch_shift(time_stretch_data, sr=22050, n_steps=pitch_value)\n",
    "            augmented_data.append(final_data)\n",
    "    return augmented_data"
   ]
  },
  {
   "cell_type": "code",
   "execution_count": 10,
   "metadata": {},
   "outputs": [],
   "source": [
    "# running the above function for a single file\n",
    "\n",
    "temp_path = df_audio.iloc[0].path\n",
    "aug_temp = generate_augmented_data(temp_path)"
   ]
  },
  {
   "cell_type": "code",
   "execution_count": 13,
   "metadata": {},
   "outputs": [
    {
     "name": "stdout",
     "output_type": "stream",
     "text": [
      "[array([ 5.32222548e-05,  1.14569455e-04,  1.09249813e-04, ...,\n",
      "        7.55491637e-05,  3.86544452e-05, -2.84191337e-05], dtype=float32), array([ 1.7738323e-06,  6.4495951e-05,  5.1416464e-05, ...,\n",
      "        7.0713199e-06, -2.6992113e-05, -4.6345751e-05], dtype=float32), array([-2.3741093e-05,  3.3956509e-05,  2.3028744e-05, ...,\n",
      "        5.6326164e-05,  4.8364895e-05,  2.4044104e-05], dtype=float32), array([ 2.3468689e-04,  2.9036371e-04,  2.5972660e-04, ...,\n",
      "       -4.2230618e-05, -4.8794023e-05, -2.5841540e-05], dtype=float32), array([ 1.7007836e-04,  2.1837749e-04,  2.0384436e-04, ...,\n",
      "       -2.0964854e-04, -1.4636105e-04, -6.4476844e-05], dtype=float32), array([1.3008949e-04, 1.9151428e-04, 1.7029993e-04, ..., 1.2782582e-05,\n",
      "       5.5834298e-06, 1.7872788e-05], dtype=float32), array([ 5.83782676e-04,  6.34408556e-04,  5.45442570e-04, ...,\n",
      "        1.14174116e-04,  6.79678633e-05, -2.61571640e-05], dtype=float32), array([5.5991940e-04, 5.6509592e-04, 5.0975202e-04, ..., 4.2579170e-05,\n",
      "       8.1477643e-05, 7.5098855e-05], dtype=float32), array([4.8372149e-04, 5.3913280e-04, 4.5250656e-04, ..., 6.7900168e-05,\n",
      "       5.7534038e-05, 7.9847068e-06], dtype=float32)]\n"
     ]
    }
   ],
   "source": [
    "# augmented data for a single file\n",
    "\n",
    "print(aug_temp)"
   ]
  },
  {
   "cell_type": "code",
   "execution_count": 11,
   "metadata": {},
   "outputs": [
    {
     "data": {
      "text/plain": [
       "9"
      ]
     },
     "execution_count": 11,
     "metadata": {},
     "output_type": "execute_result"
    }
   ],
   "source": [
    "# number of augmented datapoints for a single file. Helps in coming steps to decide the augmentation for labels\n",
    "\n",
    "len(aug_temp)"
   ]
  },
  {
   "attachments": {},
   "cell_type": "markdown",
   "metadata": {},
   "source": [
    "### <font color='orange'>Augmenting whole train dataset</font>"
   ]
  },
  {
   "cell_type": "code",
   "execution_count": 11,
   "metadata": {},
   "outputs": [],
   "source": [
    "# train test split(80% train and 20% test)\n",
    "\n",
    "X_train, X_test, y_train, y_test=train_test_split(df_audio['path'],df_audio['label'],random_state=45,test_size=0.2,stratify=df_audio['label'])"
   ]
  },
  {
   "cell_type": "code",
   "execution_count": 12,
   "metadata": {},
   "outputs": [],
   "source": [
    "# empty lists to store augmented train data and augmented train data labels\n",
    "augmented_train_data_lst = []\n",
    "augment_y_train_lst = []\n",
    "\n",
    "for i, j in zip(X_train.values, y_train.values):\n",
    "  # calling the above defined function which will return augmented data for the train data\n",
    "  aug_train = generate_augmented_data(i)\n",
    "  # adding(extending) the augmented train data and augmented train data labels to the lists\n",
    "  # https://www.programiz.com/python-programming/methods/list/extend\n",
    "  augmented_train_data_lst.extend(aug_train)\n",
    "  augment_y_train_lst.extend([j]*9)\n",
    "\n",
    "# creating a pandas dataframe with path and label as columns\n",
    "augmented_train_data = pd.DataFrame(\n",
    "    {\n",
    "        'path': augmented_train_data_lst,\n",
    "        'label': augment_y_train_lst\n",
    "    }\n",
    ")\n",
    "\n",
    "# preprocessing test data(X_test) with the help of load_wav function\n",
    "test_data_lst = []\n",
    "for i in X_test.values:\n",
    "  test_data_lst.append(load_wav(i, get_duration=False))\n",
    "\n",
    "# creating a pandas dataframe for test data as well, with path and label as columns\n",
    "test_data = pd.DataFrame(\n",
    "    {\n",
    "        'path': test_data_lst,\n",
    "        'label': y_test.values\n",
    "    }\n",
    ")"
   ]
  },
  {
   "attachments": {},
   "cell_type": "markdown",
   "metadata": {},
   "source": [
    "### <font color='orange'>Padding and masking the updated train and test dataset</font>"
   ]
  },
  {
   "cell_type": "code",
   "execution_count": 13,
   "metadata": {},
   "outputs": [],
   "source": [
    "max_length  = 17640\n",
    "\n",
    "# all the X_train_pad_seq, X_test_pad_seq, X_train_mask, X_test_mask will be numpy arrays mask vector dtype must be bool\n",
    "# padding(as well as truncating) train and test data created above\n",
    "X_train_pad_seq = pad_sequences(augmented_train_data['path'], maxlen=max_length, padding='post', truncating='post', dtype='float64')\n",
    "X_test_pad_seq = pad_sequences(test_data['path'], maxlen=max_length, padding='post', truncating='post', dtype='float64')\n",
    "\n",
    "\n",
    "########## MASKING TRAIN DATA ##############\n",
    "\n",
    "# empty list to store masked train data\n",
    "X_train_mask = []\n",
    "\n",
    "# looping through the padded train data\n",
    "for i in X_train_pad_seq:\n",
    "  # array with True/False values(if value>0,True else False)\n",
    "  mask_train = np.array([(j>0) for j in i])\n",
    "  # appending the masked train data in the list\n",
    "  X_train_mask.append(mask_train)\n",
    "\n",
    "\n",
    "############ MASKING TEST DATA ####################\n",
    "\n",
    "# empty list to store masked test data\n",
    "X_test_mask = []\n",
    "\n",
    "# looping through the padded test data\n",
    "for i in X_test_pad_seq:\n",
    "  # array with True/False values(if value>0,True else False)\n",
    "  mask_test = np.array([(j>0) for j in i])\n",
    "  # appending the masked test data in the list\n",
    "  X_test_mask.append(mask_test)\n",
    "\n",
    "\n",
    "# converting lists into numpy arrays\n",
    "X_train_mask = np.asarray(X_train_mask)\n",
    "X_test_mask = np.asarray(X_test_mask)\n",
    "\n"
   ]
  },
  {
   "cell_type": "code",
   "execution_count": 14,
   "metadata": {},
   "outputs": [],
   "source": [
    "# train and test class labels\n",
    "y_train = augmented_train_data['label']\n",
    "y_test = test_data['label']"
   ]
  },
  {
   "cell_type": "code",
   "execution_count": 15,
   "metadata": {},
   "outputs": [],
   "source": [
    "# expanding/adding a single dimension to train and test data\n",
    "# https://numpy.org/doc/stable/reference/generated/numpy.expand_dims.html\n",
    "X_train_pad_seq = np.expand_dims(X_train_pad_seq, -1)\n",
    "X_test_pad_seq = np.expand_dims(X_test_pad_seq, -1)"
   ]
  },
  {
   "attachments": {},
   "cell_type": "markdown",
   "metadata": {},
   "source": [
    "### <font color='orange'>Model Architecture</font>"
   ]
  },
  {
   "cell_type": "code",
   "execution_count": 22,
   "metadata": {},
   "outputs": [
    {
     "name": "stdout",
     "output_type": "stream",
     "text": [
      "Model: \"model\"\n",
      "__________________________________________________________________________________________________\n",
      " Layer (type)                   Output Shape         Param #     Connected to                     \n",
      "==================================================================================================\n",
      " input_1 (InputLayer)           [(None, 17640, 1)]   0           []                               \n",
      "                                                                                                  \n",
      " input_2 (InputLayer)           [(None, 17640)]      0           []                               \n",
      "                                                                                                  \n",
      " lstm (LSTM)                    (None, 25)           2700        ['input_1[0][0]',                \n",
      "                                                                  'input_2[0][0]']                \n",
      "                                                                                                  \n",
      " dense (Dense)                  (None, 64)           1664        ['lstm[0][0]']                   \n",
      "                                                                                                  \n",
      " dense_1 (Dense)                (None, 10)           650         ['dense[0][0]']                  \n",
      "                                                                                                  \n",
      "==================================================================================================\n",
      "Total params: 5,014\n",
      "Trainable params: 5,014\n",
      "Non-trainable params: 0\n",
      "__________________________________________________________________________________________________\n",
      "None\n"
     ]
    }
   ],
   "source": [
    "tf.keras.backend.clear_session()\n",
    "\n",
    "import warnings\n",
    "warnings.filterwarnings('ignore')\n",
    "\n",
    "# ----------------------------------- MODEL 3 ARCHITECTURE --------------------------------\n",
    "\n",
    "# 2 input layers\n",
    "data_input_layer = Input(shape=(max_length, 1), dtype='float64')\n",
    "mask_input_layer = Input(shape=(max_length), dtype='bool')\n",
    "\n",
    "# lstm layer\n",
    "lstm_output = LSTM(25)(inputs=data_input_layer, mask=mask_input_layer)\n",
    "\n",
    "# dense layer\n",
    "dense_layer = Dense(64)(lstm_output)\n",
    "\n",
    "# output layer\n",
    "output_layer = Dense(10, activation='softmax')(dense_layer)\n",
    "\n",
    "# creating the model\n",
    "model3 = Model([data_input_layer, mask_input_layer], output_layer)\n",
    "\n",
    "# compiling the model\n",
    "model3.compile(optimizer=tf.keras.optimizers.Adam(), loss='sparse_categorical_crossentropy', metrics=[f1])\n",
    "\n",
    "# model summary\n",
    "print(model3.summary())"
   ]
  },
  {
   "attachments": {},
   "cell_type": "markdown",
   "metadata": {},
   "source": [
    "### <font color='orange'>Model Training and saving the trained model</font>"
   ]
  },
  {
   "cell_type": "code",
   "execution_count": 23,
   "metadata": {},
   "outputs": [
    {
     "name": "stdout",
     "output_type": "stream",
     "text": [
      "Epoch 1/5\n",
      "113/113 [==============================] - 4968s 43s/step - loss: 2.3033 - f1: 0.0931 - val_loss: 2.3027 - val_f1: 0.1328\n",
      "Epoch 2/5\n",
      "113/113 [==============================] - 5273s 47s/step - loss: 2.3030 - f1: 0.0978 - val_loss: 2.3028 - val_f1: 0.0918\n",
      "Epoch 3/5\n",
      "113/113 [==============================] - 5321s 47s/step - loss: 2.3028 - f1: 0.1014 - val_loss: 2.3032 - val_f1: 0.1035\n",
      "Epoch 4/5\n",
      "  3/113 [..............................] - ETA: 1:26:07 - loss: 2.3016 - f1: 0.1172"
     ]
    },
    {
     "ename": "KeyboardInterrupt",
     "evalue": "",
     "output_type": "error",
     "traceback": [
      "\u001b[1;31m---------------------------------------------------------------------------\u001b[0m",
      "\u001b[1;31mKeyboardInterrupt\u001b[0m                         Traceback (most recent call last)",
      "Cell \u001b[1;32mIn[23], line 2\u001b[0m\n\u001b[0;32m      1\u001b[0m \u001b[39m#train your model\u001b[39;00m\n\u001b[1;32m----> 2\u001b[0m model3\u001b[39m.\u001b[39;49mfit([X_train_pad_seq,X_train_mask],y_train, validation_data\u001b[39m=\u001b[39;49m([X_test_pad_seq,X_test_mask], y_test), batch_size\u001b[39m=\u001b[39;49m\u001b[39m128\u001b[39;49m, epochs\u001b[39m=\u001b[39;49m\u001b[39m5\u001b[39;49m)\n\u001b[0;32m      4\u001b[0m \u001b[39m# save the trained model\u001b[39;00m\n\u001b[0;32m      5\u001b[0m model3\u001b[39m.\u001b[39msave(\u001b[39m'\u001b[39m\u001b[39mE:/GITHUB REPOS/spoken-digit-recognition/src/models/model3\u001b[39m\u001b[39m'\u001b[39m)\n",
      "File \u001b[1;32mc:\\Users\\rohan\\AppData\\Local\\Programs\\Python\\Python310\\lib\\site-packages\\keras\\utils\\traceback_utils.py:65\u001b[0m, in \u001b[0;36mfilter_traceback.<locals>.error_handler\u001b[1;34m(*args, **kwargs)\u001b[0m\n\u001b[0;32m     63\u001b[0m filtered_tb \u001b[39m=\u001b[39m \u001b[39mNone\u001b[39;00m\n\u001b[0;32m     64\u001b[0m \u001b[39mtry\u001b[39;00m:\n\u001b[1;32m---> 65\u001b[0m     \u001b[39mreturn\u001b[39;00m fn(\u001b[39m*\u001b[39margs, \u001b[39m*\u001b[39m\u001b[39m*\u001b[39mkwargs)\n\u001b[0;32m     66\u001b[0m \u001b[39mexcept\u001b[39;00m \u001b[39mException\u001b[39;00m \u001b[39mas\u001b[39;00m e:\n\u001b[0;32m     67\u001b[0m     filtered_tb \u001b[39m=\u001b[39m _process_traceback_frames(e\u001b[39m.\u001b[39m__traceback__)\n",
      "File \u001b[1;32mc:\\Users\\rohan\\AppData\\Local\\Programs\\Python\\Python310\\lib\\site-packages\\keras\\engine\\training.py:1685\u001b[0m, in \u001b[0;36mModel.fit\u001b[1;34m(self, x, y, batch_size, epochs, verbose, callbacks, validation_split, validation_data, shuffle, class_weight, sample_weight, initial_epoch, steps_per_epoch, validation_steps, validation_batch_size, validation_freq, max_queue_size, workers, use_multiprocessing)\u001b[0m\n\u001b[0;32m   1677\u001b[0m \u001b[39mwith\u001b[39;00m tf\u001b[39m.\u001b[39mprofiler\u001b[39m.\u001b[39mexperimental\u001b[39m.\u001b[39mTrace(\n\u001b[0;32m   1678\u001b[0m     \u001b[39m\"\u001b[39m\u001b[39mtrain\u001b[39m\u001b[39m\"\u001b[39m,\n\u001b[0;32m   1679\u001b[0m     epoch_num\u001b[39m=\u001b[39mepoch,\n\u001b[1;32m   (...)\u001b[0m\n\u001b[0;32m   1682\u001b[0m     _r\u001b[39m=\u001b[39m\u001b[39m1\u001b[39m,\n\u001b[0;32m   1683\u001b[0m ):\n\u001b[0;32m   1684\u001b[0m     callbacks\u001b[39m.\u001b[39mon_train_batch_begin(step)\n\u001b[1;32m-> 1685\u001b[0m     tmp_logs \u001b[39m=\u001b[39m \u001b[39mself\u001b[39;49m\u001b[39m.\u001b[39;49mtrain_function(iterator)\n\u001b[0;32m   1686\u001b[0m     \u001b[39mif\u001b[39;00m data_handler\u001b[39m.\u001b[39mshould_sync:\n\u001b[0;32m   1687\u001b[0m         context\u001b[39m.\u001b[39masync_wait()\n",
      "File \u001b[1;32mc:\\Users\\rohan\\AppData\\Local\\Programs\\Python\\Python310\\lib\\site-packages\\tensorflow\\python\\util\\traceback_utils.py:150\u001b[0m, in \u001b[0;36mfilter_traceback.<locals>.error_handler\u001b[1;34m(*args, **kwargs)\u001b[0m\n\u001b[0;32m    148\u001b[0m filtered_tb \u001b[39m=\u001b[39m \u001b[39mNone\u001b[39;00m\n\u001b[0;32m    149\u001b[0m \u001b[39mtry\u001b[39;00m:\n\u001b[1;32m--> 150\u001b[0m   \u001b[39mreturn\u001b[39;00m fn(\u001b[39m*\u001b[39margs, \u001b[39m*\u001b[39m\u001b[39m*\u001b[39mkwargs)\n\u001b[0;32m    151\u001b[0m \u001b[39mexcept\u001b[39;00m \u001b[39mException\u001b[39;00m \u001b[39mas\u001b[39;00m e:\n\u001b[0;32m    152\u001b[0m   filtered_tb \u001b[39m=\u001b[39m _process_traceback_frames(e\u001b[39m.\u001b[39m__traceback__)\n",
      "File \u001b[1;32mc:\\Users\\rohan\\AppData\\Local\\Programs\\Python\\Python310\\lib\\site-packages\\tensorflow\\python\\eager\\polymorphic_function\\polymorphic_function.py:894\u001b[0m, in \u001b[0;36mFunction.__call__\u001b[1;34m(self, *args, **kwds)\u001b[0m\n\u001b[0;32m    891\u001b[0m compiler \u001b[39m=\u001b[39m \u001b[39m\"\u001b[39m\u001b[39mxla\u001b[39m\u001b[39m\"\u001b[39m \u001b[39mif\u001b[39;00m \u001b[39mself\u001b[39m\u001b[39m.\u001b[39m_jit_compile \u001b[39melse\u001b[39;00m \u001b[39m\"\u001b[39m\u001b[39mnonXla\u001b[39m\u001b[39m\"\u001b[39m\n\u001b[0;32m    893\u001b[0m \u001b[39mwith\u001b[39;00m OptionalXlaContext(\u001b[39mself\u001b[39m\u001b[39m.\u001b[39m_jit_compile):\n\u001b[1;32m--> 894\u001b[0m   result \u001b[39m=\u001b[39m \u001b[39mself\u001b[39m\u001b[39m.\u001b[39m_call(\u001b[39m*\u001b[39margs, \u001b[39m*\u001b[39m\u001b[39m*\u001b[39mkwds)\n\u001b[0;32m    896\u001b[0m new_tracing_count \u001b[39m=\u001b[39m \u001b[39mself\u001b[39m\u001b[39m.\u001b[39mexperimental_get_tracing_count()\n\u001b[0;32m    897\u001b[0m without_tracing \u001b[39m=\u001b[39m (tracing_count \u001b[39m==\u001b[39m new_tracing_count)\n",
      "File \u001b[1;32mc:\\Users\\rohan\\AppData\\Local\\Programs\\Python\\Python310\\lib\\site-packages\\tensorflow\\python\\eager\\polymorphic_function\\polymorphic_function.py:926\u001b[0m, in \u001b[0;36mFunction._call\u001b[1;34m(self, *args, **kwds)\u001b[0m\n\u001b[0;32m    923\u001b[0m   \u001b[39mself\u001b[39m\u001b[39m.\u001b[39m_lock\u001b[39m.\u001b[39mrelease()\n\u001b[0;32m    924\u001b[0m   \u001b[39m# In this case we have created variables on the first call, so we run the\u001b[39;00m\n\u001b[0;32m    925\u001b[0m   \u001b[39m# defunned version which is guaranteed to never create variables.\u001b[39;00m\n\u001b[1;32m--> 926\u001b[0m   \u001b[39mreturn\u001b[39;00m \u001b[39mself\u001b[39m\u001b[39m.\u001b[39m_no_variable_creation_fn(\u001b[39m*\u001b[39margs, \u001b[39m*\u001b[39m\u001b[39m*\u001b[39mkwds)  \u001b[39m# pylint: disable=not-callable\u001b[39;00m\n\u001b[0;32m    927\u001b[0m \u001b[39melif\u001b[39;00m \u001b[39mself\u001b[39m\u001b[39m.\u001b[39m_variable_creation_fn \u001b[39mis\u001b[39;00m \u001b[39mnot\u001b[39;00m \u001b[39mNone\u001b[39;00m:\n\u001b[0;32m    928\u001b[0m   \u001b[39m# Release the lock early so that multiple threads can perform the call\u001b[39;00m\n\u001b[0;32m    929\u001b[0m   \u001b[39m# in parallel.\u001b[39;00m\n\u001b[0;32m    930\u001b[0m   \u001b[39mself\u001b[39m\u001b[39m.\u001b[39m_lock\u001b[39m.\u001b[39mrelease()\n",
      "File \u001b[1;32mc:\\Users\\rohan\\AppData\\Local\\Programs\\Python\\Python310\\lib\\site-packages\\tensorflow\\python\\eager\\polymorphic_function\\tracing_compiler.py:143\u001b[0m, in \u001b[0;36mTracingCompiler.__call__\u001b[1;34m(self, *args, **kwargs)\u001b[0m\n\u001b[0;32m    140\u001b[0m \u001b[39mwith\u001b[39;00m \u001b[39mself\u001b[39m\u001b[39m.\u001b[39m_lock:\n\u001b[0;32m    141\u001b[0m   (concrete_function,\n\u001b[0;32m    142\u001b[0m    filtered_flat_args) \u001b[39m=\u001b[39m \u001b[39mself\u001b[39m\u001b[39m.\u001b[39m_maybe_define_function(args, kwargs)\n\u001b[1;32m--> 143\u001b[0m \u001b[39mreturn\u001b[39;00m concrete_function\u001b[39m.\u001b[39;49m_call_flat(\n\u001b[0;32m    144\u001b[0m     filtered_flat_args, captured_inputs\u001b[39m=\u001b[39;49mconcrete_function\u001b[39m.\u001b[39;49mcaptured_inputs)\n",
      "File \u001b[1;32mc:\\Users\\rohan\\AppData\\Local\\Programs\\Python\\Python310\\lib\\site-packages\\tensorflow\\python\\eager\\polymorphic_function\\monomorphic_function.py:1757\u001b[0m, in \u001b[0;36mConcreteFunction._call_flat\u001b[1;34m(self, args, captured_inputs, cancellation_manager)\u001b[0m\n\u001b[0;32m   1753\u001b[0m possible_gradient_type \u001b[39m=\u001b[39m gradients_util\u001b[39m.\u001b[39mPossibleTapeGradientTypes(args)\n\u001b[0;32m   1754\u001b[0m \u001b[39mif\u001b[39;00m (possible_gradient_type \u001b[39m==\u001b[39m gradients_util\u001b[39m.\u001b[39mPOSSIBLE_GRADIENT_TYPES_NONE\n\u001b[0;32m   1755\u001b[0m     \u001b[39mand\u001b[39;00m executing_eagerly):\n\u001b[0;32m   1756\u001b[0m   \u001b[39m# No tape is watching; skip to running the function.\u001b[39;00m\n\u001b[1;32m-> 1757\u001b[0m   \u001b[39mreturn\u001b[39;00m \u001b[39mself\u001b[39m\u001b[39m.\u001b[39m_build_call_outputs(\u001b[39mself\u001b[39;49m\u001b[39m.\u001b[39;49m_inference_function\u001b[39m.\u001b[39;49mcall(\n\u001b[0;32m   1758\u001b[0m       ctx, args, cancellation_manager\u001b[39m=\u001b[39;49mcancellation_manager))\n\u001b[0;32m   1759\u001b[0m forward_backward \u001b[39m=\u001b[39m \u001b[39mself\u001b[39m\u001b[39m.\u001b[39m_select_forward_and_backward_functions(\n\u001b[0;32m   1760\u001b[0m     args,\n\u001b[0;32m   1761\u001b[0m     possible_gradient_type,\n\u001b[0;32m   1762\u001b[0m     executing_eagerly)\n\u001b[0;32m   1763\u001b[0m forward_function, args_with_tangents \u001b[39m=\u001b[39m forward_backward\u001b[39m.\u001b[39mforward()\n",
      "File \u001b[1;32mc:\\Users\\rohan\\AppData\\Local\\Programs\\Python\\Python310\\lib\\site-packages\\tensorflow\\python\\eager\\polymorphic_function\\monomorphic_function.py:381\u001b[0m, in \u001b[0;36m_EagerDefinedFunction.call\u001b[1;34m(self, ctx, args, cancellation_manager)\u001b[0m\n\u001b[0;32m    379\u001b[0m \u001b[39mwith\u001b[39;00m _InterpolateFunctionError(\u001b[39mself\u001b[39m):\n\u001b[0;32m    380\u001b[0m   \u001b[39mif\u001b[39;00m cancellation_manager \u001b[39mis\u001b[39;00m \u001b[39mNone\u001b[39;00m:\n\u001b[1;32m--> 381\u001b[0m     outputs \u001b[39m=\u001b[39m execute\u001b[39m.\u001b[39;49mexecute(\n\u001b[0;32m    382\u001b[0m         \u001b[39mstr\u001b[39;49m(\u001b[39mself\u001b[39;49m\u001b[39m.\u001b[39;49msignature\u001b[39m.\u001b[39;49mname),\n\u001b[0;32m    383\u001b[0m         num_outputs\u001b[39m=\u001b[39;49m\u001b[39mself\u001b[39;49m\u001b[39m.\u001b[39;49m_num_outputs,\n\u001b[0;32m    384\u001b[0m         inputs\u001b[39m=\u001b[39;49margs,\n\u001b[0;32m    385\u001b[0m         attrs\u001b[39m=\u001b[39;49mattrs,\n\u001b[0;32m    386\u001b[0m         ctx\u001b[39m=\u001b[39;49mctx)\n\u001b[0;32m    387\u001b[0m   \u001b[39melse\u001b[39;00m:\n\u001b[0;32m    388\u001b[0m     outputs \u001b[39m=\u001b[39m execute\u001b[39m.\u001b[39mexecute_with_cancellation(\n\u001b[0;32m    389\u001b[0m         \u001b[39mstr\u001b[39m(\u001b[39mself\u001b[39m\u001b[39m.\u001b[39msignature\u001b[39m.\u001b[39mname),\n\u001b[0;32m    390\u001b[0m         num_outputs\u001b[39m=\u001b[39m\u001b[39mself\u001b[39m\u001b[39m.\u001b[39m_num_outputs,\n\u001b[1;32m   (...)\u001b[0m\n\u001b[0;32m    393\u001b[0m         ctx\u001b[39m=\u001b[39mctx,\n\u001b[0;32m    394\u001b[0m         cancellation_manager\u001b[39m=\u001b[39mcancellation_manager)\n",
      "File \u001b[1;32mc:\\Users\\rohan\\AppData\\Local\\Programs\\Python\\Python310\\lib\\site-packages\\tensorflow\\python\\eager\\execute.py:52\u001b[0m, in \u001b[0;36mquick_execute\u001b[1;34m(op_name, num_outputs, inputs, attrs, ctx, name)\u001b[0m\n\u001b[0;32m     50\u001b[0m \u001b[39mtry\u001b[39;00m:\n\u001b[0;32m     51\u001b[0m   ctx\u001b[39m.\u001b[39mensure_initialized()\n\u001b[1;32m---> 52\u001b[0m   tensors \u001b[39m=\u001b[39m pywrap_tfe\u001b[39m.\u001b[39;49mTFE_Py_Execute(ctx\u001b[39m.\u001b[39;49m_handle, device_name, op_name,\n\u001b[0;32m     53\u001b[0m                                       inputs, attrs, num_outputs)\n\u001b[0;32m     54\u001b[0m \u001b[39mexcept\u001b[39;00m core\u001b[39m.\u001b[39m_NotOkStatusException \u001b[39mas\u001b[39;00m e:\n\u001b[0;32m     55\u001b[0m   \u001b[39mif\u001b[39;00m name \u001b[39mis\u001b[39;00m \u001b[39mnot\u001b[39;00m \u001b[39mNone\u001b[39;00m:\n",
      "\u001b[1;31mKeyboardInterrupt\u001b[0m: "
     ]
    }
   ],
   "source": [
    "#train your model\n",
    "model3.fit([X_train_pad_seq,X_train_mask],y_train, validation_data=([X_test_pad_seq,X_test_mask], y_test), batch_size=128, epochs=5)\n",
    "\n",
    "# save the trained model\n",
    "model3.save('E:/GITHUB REPOS/spoken-digit-recognition/src/models/model3')"
   ]
  },
  {
   "attachments": {},
   "cell_type": "markdown",
   "metadata": {},
   "source": [
    "## <font color='red'>NOTE - I interrupted the above cell execution as it is taking humongous amount of time to train the model on augmented raw features data. Also the performace is similar to model 1 (bad performance).</font>"
   ]
  },
  {
   "attachments": {},
   "cell_type": "markdown",
   "metadata": {},
   "source": [
    "## <font color='green'>3. Data Augmentation with Spectrogram Data (giving augmented spectrogram data to the model)</font>"
   ]
  },
  {
   "attachments": {},
   "cell_type": "markdown",
   "metadata": {},
   "source": [
    "### <font color='orange'>Convert raw data into Spectrogram Data</font>"
   ]
  },
  {
   "attachments": {},
   "cell_type": "markdown",
   "metadata": {},
   "source": [
    "<b>We already know how to convert raw data into spectrogram data as we've done it while prepraring data for model 2. Use the same function convert_to_spectrogram() to do the conversion for augmented raw data as well.</b>"
   ]
  },
  {
   "cell_type": "code",
   "execution_count": 16,
   "metadata": {},
   "outputs": [],
   "source": [
    "# removing the extra added dimension (which was added in the previous data augmentation for raw data) along the last axis\n",
    "# https://numpy.org/doc/stable/reference/generated/numpy.squeeze.html\n",
    "\n",
    "X_train_pad_seq = np.squeeze(X_train_pad_seq, axis=-1)\n",
    "X_test_pad_seq = np.squeeze(X_test_pad_seq, axis=-1)"
   ]
  },
  {
   "cell_type": "code",
   "execution_count": 19,
   "metadata": {},
   "outputs": [
    {
     "name": "stdout",
     "output_type": "stream",
     "text": [
      "(14400, 64, 35)\n",
      "(400, 64, 35)\n"
     ]
    }
   ],
   "source": [
    "# use convert_to_spectrogram() and convert every raw sequence in X_train_pad_seq and X_test_pad_seq.\n",
    "# save those all in the X_train_spectrogram and X_test_spectrogram ( These two arrays must be numpy arrays)\n",
    "\n",
    "# empty lists to store train and test data spectrograms\n",
    "X_train_spectrogram_lst = []\n",
    "X_test_spectrogram_lst = []\n",
    "\n",
    "# train data\n",
    "for i in X_train_pad_seq:\n",
    "  # storing train data spectrograms\n",
    "  X_train_spectrogram_lst.append(convert_to_spectrogram(i))\n",
    "\n",
    "#test data\n",
    "for i in X_test_pad_seq:\n",
    "  # storing test data spectrograms\n",
    "  X_test_spectrogram_lst.append(convert_to_spectrogram(i))\n",
    "\n",
    "# converting lists into arrays\n",
    "X_train_spectrogram = np.asarray(X_train_spectrogram_lst)\n",
    "X_test_spectrogram = np.asarray(X_test_spectrogram_lst)\n",
    "\n",
    "# shapes of train and test data spectrograms\n",
    "print(X_train_spectrogram.shape)\n",
    "print(X_test_spectrogram.shape)"
   ]
  },
  {
   "attachments": {},
   "cell_type": "markdown",
   "metadata": {},
   "source": [
    "### <font color='orange'>Model Architecture</font>"
   ]
  },
  {
   "cell_type": "code",
   "execution_count": 20,
   "metadata": {},
   "outputs": [
    {
     "name": "stdout",
     "output_type": "stream",
     "text": [
      "Model: \"model\"\n",
      "_________________________________________________________________\n",
      " Layer (type)                Output Shape              Param #   \n",
      "=================================================================\n",
      " input_1 (InputLayer)        [(None, 64, 35)]          0         \n",
      "                                                                 \n",
      " lstm (LSTM)                 (None, 64, 100)           54400     \n",
      "                                                                 \n",
      " tf.math.reduce_mean (TFOpLa  (None, 64)               0         \n",
      " mbda)                                                           \n",
      "                                                                 \n",
      " dense (Dense)               (None, 256)               16640     \n",
      "                                                                 \n",
      " dense_1 (Dense)             (None, 10)                2570      \n",
      "                                                                 \n",
      "=================================================================\n",
      "Total params: 73,610\n",
      "Trainable params: 73,610\n",
      "Non-trainable params: 0\n",
      "_________________________________________________________________\n",
      "None\n"
     ]
    }
   ],
   "source": [
    "tf.keras.backend.clear_session()\n",
    "\n",
    "# --------------------------------- MODEL 4 ARCHITECTURE -------------------------------------\n",
    "\n",
    "# input layer\n",
    "input_layer = Input(shape=(64,35,))\n",
    "\n",
    "# lstm layer\n",
    "lstm_layer = LSTM(100, return_sequences=True)(input_layer)\n",
    "\n",
    "# https://www.tensorflow.org/api_docs/python/tf/math/reduce_mean\n",
    "# averaging the output of lstm layer\n",
    "lstm_op_avg = tf.math.reduce_mean(lstm_layer, axis=-1)\n",
    "\n",
    "# dense layer\n",
    "dense_layer = Dense(256)(lstm_op_avg)\n",
    "\n",
    "# output layer\n",
    "output_layer = Dense(10, activation='softmax')(dense_layer)\n",
    "\n",
    "# creating the model\n",
    "model4 = Model(inputs=input_layer, outputs=output_layer)\n",
    "\n",
    "# compiling the model\n",
    "model4.compile(optimizer=tf.keras.optimizers.Adam(), loss='sparse_categorical_crossentropy', metrics=[f1])\n",
    "\n",
    "# model summary\n",
    "print(model4.summary())"
   ]
  },
  {
   "attachments": {},
   "cell_type": "markdown",
   "metadata": {},
   "source": [
    "### <font color='orange'>Model Training and saving the trained model</font>"
   ]
  },
  {
   "cell_type": "code",
   "execution_count": 21,
   "metadata": {},
   "outputs": [
    {
     "name": "stdout",
     "output_type": "stream",
     "text": [
      "Epoch 1/30\n",
      "450/450 [==============================] - 21s 38ms/step - loss: 1.2448 - f1: 0.5710 - val_loss: 0.6718 - val_f1: 0.7885\n",
      "Epoch 2/30\n",
      "450/450 [==============================] - 21s 47ms/step - loss: 0.6137 - f1: 0.7907 - val_loss: 0.5414 - val_f1: 0.8245\n",
      "Epoch 3/30\n",
      "450/450 [==============================] - 20s 43ms/step - loss: 0.5210 - f1: 0.8249 - val_loss: 0.4016 - val_f1: 0.8846\n",
      "Epoch 4/30\n",
      "450/450 [==============================] - 21s 47ms/step - loss: 0.4593 - f1: 0.8424 - val_loss: 0.3690 - val_f1: 0.8702\n",
      "Epoch 5/30\n",
      "450/450 [==============================] - 19s 42ms/step - loss: 0.4336 - f1: 0.8530 - val_loss: 0.4049 - val_f1: 0.8822\n",
      "Epoch 6/30\n",
      "450/450 [==============================] - 18s 41ms/step - loss: 0.4149 - f1: 0.8614 - val_loss: 0.4054 - val_f1: 0.8510\n",
      "Epoch 7/30\n",
      "450/450 [==============================] - 19s 41ms/step - loss: 0.4019 - f1: 0.8643 - val_loss: 0.3165 - val_f1: 0.8918\n",
      "Epoch 8/30\n",
      "450/450 [==============================] - 19s 41ms/step - loss: 0.3943 - f1: 0.8658 - val_loss: 0.3518 - val_f1: 0.8894\n",
      "Epoch 9/30\n",
      "450/450 [==============================] - 19s 41ms/step - loss: 0.3904 - f1: 0.8636 - val_loss: 0.2921 - val_f1: 0.9135\n",
      "Epoch 10/30\n",
      "450/450 [==============================] - 19s 42ms/step - loss: 0.3940 - f1: 0.8631 - val_loss: 0.3078 - val_f1: 0.8990\n",
      "Epoch 11/30\n",
      "450/450 [==============================] - 19s 41ms/step - loss: 0.3932 - f1: 0.8663 - val_loss: 0.3248 - val_f1: 0.8966\n",
      "Epoch 12/30\n",
      "450/450 [==============================] - 19s 42ms/step - loss: 0.3946 - f1: 0.8640 - val_loss: 0.3332 - val_f1: 0.8942\n",
      "Epoch 13/30\n",
      "450/450 [==============================] - 19s 41ms/step - loss: 0.3926 - f1: 0.8641 - val_loss: 0.3724 - val_f1: 0.8822\n",
      "Epoch 14/30\n",
      "450/450 [==============================] - 18s 41ms/step - loss: 0.3848 - f1: 0.8676 - val_loss: 0.3208 - val_f1: 0.9014\n",
      "Epoch 15/30\n",
      "450/450 [==============================] - 18s 41ms/step - loss: 0.3724 - f1: 0.8679 - val_loss: 0.3161 - val_f1: 0.9014\n",
      "Epoch 16/30\n",
      "450/450 [==============================] - 19s 41ms/step - loss: 0.3773 - f1: 0.8688 - val_loss: 0.3192 - val_f1: 0.8942\n",
      "Epoch 17/30\n",
      "450/450 [==============================] - 18s 41ms/step - loss: 0.3808 - f1: 0.8671 - val_loss: 0.3112 - val_f1: 0.8894\n",
      "Epoch 18/30\n",
      "450/450 [==============================] - 19s 42ms/step - loss: 0.3721 - f1: 0.8682 - val_loss: 0.3408 - val_f1: 0.8894\n",
      "Epoch 19/30\n",
      "450/450 [==============================] - 18s 41ms/step - loss: 0.3810 - f1: 0.8667 - val_loss: 0.4034 - val_f1: 0.8486\n",
      "Epoch 20/30\n",
      "450/450 [==============================] - 18s 41ms/step - loss: 0.3736 - f1: 0.8670 - val_loss: 0.3529 - val_f1: 0.8774\n",
      "Epoch 21/30\n",
      "450/450 [==============================] - 19s 42ms/step - loss: 0.3815 - f1: 0.8628 - val_loss: 0.3415 - val_f1: 0.8822\n",
      "Epoch 22/30\n",
      "450/450 [==============================] - 19s 43ms/step - loss: 0.3787 - f1: 0.8669 - val_loss: 0.2994 - val_f1: 0.9014\n",
      "Epoch 23/30\n",
      "450/450 [==============================] - 19s 42ms/step - loss: 0.3731 - f1: 0.8709 - val_loss: 0.3525 - val_f1: 0.8702\n",
      "Epoch 24/30\n",
      "450/450 [==============================] - 19s 42ms/step - loss: 0.3766 - f1: 0.8650 - val_loss: 0.3099 - val_f1: 0.9014\n",
      "Epoch 25/30\n",
      "450/450 [==============================] - 20s 44ms/step - loss: 0.3770 - f1: 0.8653 - val_loss: 0.2914 - val_f1: 0.9038\n",
      "Epoch 26/30\n",
      "450/450 [==============================] - 20s 43ms/step - loss: 0.3837 - f1: 0.8664 - val_loss: 0.3264 - val_f1: 0.9087\n",
      "Epoch 27/30\n",
      "450/450 [==============================] - 18s 41ms/step - loss: 0.3793 - f1: 0.8654 - val_loss: 0.3024 - val_f1: 0.9183\n",
      "Epoch 28/30\n",
      "450/450 [==============================] - 19s 41ms/step - loss: 0.3647 - f1: 0.8715 - val_loss: 0.3730 - val_f1: 0.8822\n",
      "Epoch 29/30\n",
      "450/450 [==============================] - 18s 41ms/step - loss: 0.3766 - f1: 0.8675 - val_loss: 0.3252 - val_f1: 0.8702\n",
      "Epoch 30/30\n",
      "450/450 [==============================] - 18s 41ms/step - loss: 0.3869 - f1: 0.8622 - val_loss: 0.3594 - val_f1: 0.8774\n"
     ]
    },
    {
     "name": "stderr",
     "output_type": "stream",
     "text": [
      "WARNING:absl:Found untraced functions such as _update_step_xla, lstm_cell_layer_call_fn, lstm_cell_layer_call_and_return_conditional_losses while saving (showing 3 of 3). These functions will not be directly callable after loading.\n"
     ]
    },
    {
     "name": "stdout",
     "output_type": "stream",
     "text": [
      "INFO:tensorflow:Assets written to: E:/GITHUB REPOS/spoken-digit-recognition/src/models/model4\\assets\n"
     ]
    },
    {
     "name": "stderr",
     "output_type": "stream",
     "text": [
      "INFO:tensorflow:Assets written to: E:/GITHUB REPOS/spoken-digit-recognition/src/models/model4\\assets\n"
     ]
    }
   ],
   "source": [
    "# train your model\n",
    "model4.fit(X_train_spectrogram,y_train, validation_data=(X_test_spectrogram, y_test), epochs=30)\n",
    "\n",
    "# save the trained model\n",
    "model4.save('E:/GITHUB REPOS/spoken-digit-recognition/src/models/model4')"
   ]
  },
  {
   "attachments": {},
   "cell_type": "markdown",
   "metadata": {},
   "source": [
    "# <font color='green'>Observations</font>"
   ]
  },
  {
   "cell_type": "code",
   "execution_count": 24,
   "metadata": {},
   "outputs": [
    {
     "name": "stdout",
     "output_type": "stream",
     "text": [
      "+-----------------------------------------+-----------------+-----------------+----------------+------------+-----------+\n",
      "|       Model (tweaking the dataset)      |      Epochs     | F1 Score(Train) | F1 Score(Test) | Train Loss | Test Loss |\n",
      "+-----------------------------------------+-----------------+-----------------+----------------+------------+-----------+\n",
      "|                 Raw Data                |        5        |      0.0866     |     0.0998     |   2.3035   |   2.3026  |\n",
      "|             Spectrogram Data            |        30       |      0.8587     |     0.8344     |   0.4554   |   0.5069  |\n",
      "|   Data augmentation with raw features   | 3 (interrupted) |      0.1014     |     0.0918     |   2.3028   |   2.3032  |\n",
      "| Data augmentation with spectrogram data |        30       |      0.8622     |     0.8774     |   0.3869   |   0.3594  |\n",
      "+-----------------------------------------+-----------------+-----------------+----------------+------------+-----------+\n"
     ]
    }
   ],
   "source": [
    "# PrettyTable() used to summarize the data in tabular format\n",
    "# reference - https://pypi.org/project/prettytable/\n",
    "\n",
    "table = PrettyTable()\n",
    "\n",
    "# column names\n",
    "table.field_names = ['Model (tweaking the dataset)', 'Epochs', 'F1 Score(Train)', 'F1 Score(Test)', 'Train Loss', 'Test Loss']\n",
    "\n",
    "# filling corresponding values to the column names\n",
    "table.add_row(['Raw Data', '5', '0.0866', '0.0998', '2.3035', '2.3026']) \n",
    "table.add_row(['Spectrogram Data', '30', '0.8587', '0.8344', '0.4554', '0.5069'])\n",
    "table.add_row(['Data augmentation with raw features', '3 (interrupted)', '0.1014', '0.0918', '2.3028', '2.3032'])\n",
    "table.add_row(['Data augmentation with spectrogram data', '30', '0.8622', '0.8774', '0.3869', '0.3594'])\n",
    "\n",
    "print(table)"
   ]
  },
  {
   "attachments": {},
   "cell_type": "markdown",
   "metadata": {},
   "source": [
    "# <font color='green'>Conclusion</font>"
   ]
  },
  {
   "attachments": {},
   "cell_type": "markdown",
   "metadata": {},
   "source": [
    "<b>As seen from the above observations, we can conclude that models with spectrogram data perform really good as compared to the models with raw data. As the dataset is small, augmentation is also done, which helps in increase of the training dataset for models to generalize more. <br>\n",
    "Coming to the selection of the trained model for the actual 'Spoken Digit Recognition' project, I'll go with model4 (trained on Data Augmentation with Spectrogram Data) as its performance is really good and it is trained on augmented dataset.</b>"
   ]
  }
 ],
 "metadata": {
  "kernelspec": {
   "display_name": "Python 3",
   "language": "python",
   "name": "python3"
  },
  "language_info": {
   "codemirror_mode": {
    "name": "ipython",
    "version": 3
   },
   "file_extension": ".py",
   "mimetype": "text/x-python",
   "name": "python",
   "nbconvert_exporter": "python",
   "pygments_lexer": "ipython3",
   "version": "3.10.9"
  },
  "orig_nbformat": 4
 },
 "nbformat": 4,
 "nbformat_minor": 2
}
